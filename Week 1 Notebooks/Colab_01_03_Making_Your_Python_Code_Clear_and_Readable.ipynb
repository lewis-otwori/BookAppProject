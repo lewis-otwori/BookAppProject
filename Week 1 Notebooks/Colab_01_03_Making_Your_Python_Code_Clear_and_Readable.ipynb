{
  "cells": [
    {
      "cell_type": "markdown",
      "metadata": {
        "id": "view-in-github",
        "colab_type": "text"
      },
      "source": [
        "<a href=\"https://colab.research.google.com/github/lewis-otwori/BookAppProject/blob/main/Week%201%20Notebooks/Colab_01_03_Making_Your_Python_Code_Clear_and_Readable.ipynb\" target=\"_parent\"><img src=\"https://colab.research.google.com/assets/colab-badge.svg\" alt=\"Open In Colab\"/></a>"
      ]
    },
    {
      "cell_type": "markdown",
      "metadata": {
        "id": "UIMGRXQBPbds"
      },
      "source": [
        "## Making Your Python Code Clear and Readable\n",
        "\n",
        "Welcome! 🎉\n",
        "\n",
        "When writing code, **how** you format your output is just as important as **what** you print. Imagine reading a book without spaces between paragraphs—it would be confusing, right? The same idea applies to programming!\n",
        "\n",
        "In this notebook, you'll learn how to:  \n",
        "\n",
        "- ✅ Add **blank lines** to make your output easier to read  \n",
        "- ✅ Print **multiple lines** using different techniques  \n",
        "- ✅ Use **comments** to explain your code (just like adding notes in a notebook!)\n",
        "\n",
        "💡 **Why does this matter?**  \n",
        "\n",
        "- Blank lines help **organise** your output.  \n",
        "- Comments help **explain** your code so that you (and others) can understand it later.  \n",
        "- Writing clear, readable code is a skill that **every great programmer** develops over time!\n",
        "\n",
        "Let's make your Python programs **clear, structured, and easy to read!** 🚀\n",
        "\n",
        "# AI as an assistant!\n",
        "\n",
        "Throughout this notebook, our aim isn’t simply to complete every exercise but to truly understand how the Python print() command works. Feel free to use AI as a tool to clarify concepts and support your learning, but remember that building a strong foundation in these basics is key. As tasks become more challenging, your intuitive grasp of the fundamentals will help you confidently interpret and apply AI suggestions.\n",
        "\n",
        "\n",
        "# Section 1: Skipping a Line in Code\n",
        "\n",
        "Skipping a line in the code without a print statement has no effect on the output. For example:\n",
        "\n",
        "```python\n",
        "print(\"Apple\")\n",
        "\n",
        "print(\"or Orange?\")\n",
        "```\n",
        "\n",
        "**Output:**\n",
        "```\n",
        "Apple\n",
        "or Orange?\n",
        "```\n",
        "\n",
        "What do you think is the result of running this code?  Have a guess and then run the cell.  Did the output match your expectations?"
      ]
    },
    {
      "cell_type": "code",
      "execution_count": null,
      "metadata": {
        "vscode": {
          "languageId": "python"
        },
        "id": "X5QK3LOBPbdt"
      },
      "outputs": [],
      "source": [
        "print(\"How\")\n",
        "\n",
        "print(\"are\")\n",
        "print(\"you?\")"
      ]
    },
    {
      "cell_type": "code",
      "execution_count": 5,
      "metadata": {
        "vscode": {
          "languageId": "python"
        },
        "id": "RcPkDyHAPbdu",
        "outputId": "bcfe4a15-38b2-42e9-ad8d-e420f6cd1d98",
        "colab": {
          "base_uri": "https://localhost:8080/"
        }
      },
      "outputs": [
        {
          "output_type": "stream",
          "name": "stdout",
          "text": [
            "To-Do List:\n",
            "1. Complete Python exercise\n",
            "2. Review coding concepts\n",
            "3. Have a cuppa tea\n"
          ]
        }
      ],
      "source": [
        "print('''To-Do List:\n",
        "1. Complete Python exercise\n",
        "2. Review coding concepts\n",
        "3. Have a cuppa tea''')"
      ]
    },
    {
      "cell_type": "markdown",
      "metadata": {
        "id": "UwppMAtUPbdu"
      },
      "source": [
        "# Section 6: Print a Python Poem\n",
        "\n",
        "Instead of an inspirational quote, why not create a short poem about Python? Ask AI to write a 3- or 4-line poem about Python, then print the poem using one of these techniques:\n",
        "\n",
        "- Using multiple `print()` functions  \n",
        "- Using `\\n` inside a single string  \n",
        "- Using triple quotes  \n",
        "\n",
        "Print the poem with the same formatting as shown below. For example, if AI gives you:\n",
        "\n",
        "```\n",
        "Python dances in lines of code,\n",
        "A rhythm where logic is bestowed.\n",
        "In every loop, a tale unfolds,\n",
        "A world of wonder in each node.\n",
        "```\n",
        "\n",
        "Your output should match the format exactly.\n",
        "\n",
        "> *Tip:* Choose the method you like best to print the poem.\n",
        "\n",
        "\n",
        "# Section 7: Print a Personal Profile\n",
        "\n",
        "Now, create a Python program to print a personal profile using a single `print()` function. Here's the target output:\n",
        "\n",
        "```\n",
        "Personal Profile:\n",
        "Name: Alice Smith\n",
        "Favourite Language: Python\n",
        "Hobby: Coding and bushwalking\n",
        "```\n",
        "\n",
        "> *Note:* You still have three options available (multiple print statements, `\\n`, or triple quotes), but try a different one from the previous challenge.\n",
        "\n",
        "> *Tip:* Ensure the text format is exactly as shown above, with proper line breaks.\n",
        "\n",
        "\n",
        "\n",
        "# Section 8: Comments\n",
        "\n",
        "Before we end the notebook, let’s talk about the line of code that the program *ignores* comments!\n",
        "\n",
        "Comments don’t affect the program but are crucial for readability. By explaining what each part of the code does, comments act like helpful notes, guiding developers through the logic.\n",
        "\n",
        "> **Quick Rule:** In Python, start a line with `#` and it's a comment.\n",
        "\n",
        "**Example:**\n",
        "\n",
        "```python\n",
        "# This line is a comment and won't be executed\n",
        "print(\"Do you have any comment?\")\n",
        "```\n",
        "\n",
        "**Output:**\n",
        "```\n",
        "Do you have any comment?\n",
        "```\n",
        "\n",
        "The line starting with `#` is ignored by the computer.\n",
        "\n",
        "> *Quick Question:* Which symbol does Python use to comment out a line?\n",
        "\n",
        "\n",
        "\n",
        "# Section 9: Writing Comments\n",
        "\n",
        "Anna has recently learnt about multi-line programming in Python and has written a simple script that incorporates all the lessons she learnt:\n",
        "\n",
        "```python\n",
        "print(\"Hello, World!\")\n",
        "print()\n",
        "print(\"This is the first line. \\nThis is the second line.\")\n",
        "print('''Three quotes can be used also\n",
        "to print multiple lines using a single print function''')\n",
        "```\n",
        "\n",
        "Now, she wants to add these three comments inside her code in the appropriate places:\n",
        "- `print()` function will leave an empty line  \n",
        "- `\\n` is used to signal Python to start a new line  \n",
        "- Three quotation marks can also print multiple lines  \n",
        "\n",
        "Please fill in the blanks below and assist Susan in writing well-commented scripts that she will find easier to understand later.\n",
        "\n",
        "> *Tip:* Think about where each comment would best explain the corresponding code functionality.\n",
        "\n",
        "```python\n",
        "print(\"Hello, World!\")\n",
        "\n",
        "print()\n",
        "\n",
        "print(\"This is the first line. \\nThis is the second line.\")\n",
        "\n",
        "print('''Three quotes can be used also\n",
        "to print multiple lines using a single print function''')\n",
        "```\n",
        "\n",
        "Happy coding, and remember—clear and readable code is the first step towards becoming a great programmer!"
      ]
    }
  ],
  "metadata": {
    "kernelspec": {
      "display_name": "Python 3 (ipykernel)",
      "language": "python",
      "name": "python3"
    },
    "colab": {
      "provenance": [],
      "include_colab_link": true
    }
  },
  "nbformat": 4,
  "nbformat_minor": 0
}