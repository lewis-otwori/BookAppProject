{
  "cells": [
    {
      "cell_type": "markdown",
      "metadata": {
        "id": "view-in-github",
        "colab_type": "text"
      },
      "source": [
        "<a href=\"https://colab.research.google.com/github/lewis-otwori/BookAppProject/blob/main/Week%201%20Notebooks/Colab_01_01_Hello_Python!_Your_First_Steps_in_Coding.ipynb\" target=\"_parent\"><img src=\"https://colab.research.google.com/assets/colab-badge.svg\" alt=\"Open In Colab\"/></a>"
      ]
    },
    {
      "cell_type": "markdown",
      "metadata": {
        "id": "1W3MuzNxNgCr"
      },
      "source": [
        "# Introduction\n",
        "Welcome to your first Python notebook! 🎉\n",
        "\n",
        "This notebook will guide you through writing and debugging your first Python program.\n",
        "\n",
        "Follow the instructions, fill in the blanks, and execute the code cells to see Python in action!\n",
        "\n",
        "> 💡 **AI Tip:** If you're unsure about an answer, try your best first. Then, ask AI for a suggestion and compare your attempt with AI's response. Consider which is clearer and easier to understand.\n",
        "\n",
        "# Section 1: Printing \"Hello World!\"\n",
        "\n",
        "## Example:\n",
        "print(\"Hello World!\")\n",
        "\n",
        "## Task: Print \"Hello World!\"\n",
        "Your mission: Copy the code above and print \"Hello World!\" to see your first output in action."
      ]
    },
    {
      "cell_type": "code",
      "execution_count": 1,
      "metadata": {
        "vscode": {
          "languageId": "python"
        },
        "id": "qznNdjnVNgCt",
        "outputId": "6b0b6084-2741-4dbd-fc79-a3b7b2531b82",
        "colab": {
          "base_uri": "https://localhost:8080/"
        }
      },
      "outputs": [
        {
          "output_type": "stream",
          "name": "stdout",
          "text": [
            "Hello World!\n"
          ]
        }
      ],
      "source": [
        "print(\"Hello World!\")"
      ]
    },
    {
      "cell_type": "markdown",
      "metadata": {
        "id": "zFUc_dLRNgCu"
      },
      "source": [
        "> 💡 **AI Tip:** If your code doesn’t work, copy the error message and ask AI to explain it in simple terms.\n",
        "\n",
        "# Section 2: Understanding print() Function\n",
        "\n",
        "Think of `print()` as a magic spell 🧙‍♂️ that makes text appear on the screen. Now, print another message to cast your magic spell.\n",
        "\n",
        "## Task: Print another message of your choice\n",
        "\n",
        "> 💡 **Hint:** Replace the blank space inside the quotes with any text you want to see on the screen."
      ]
    },
    {
      "cell_type": "code",
      "execution_count": 3,
      "metadata": {
        "vscode": {
          "languageId": "python"
        },
        "id": "M8f2geoMNgCu",
        "outputId": "206cb898-2f7d-484a-f073-092c90650659",
        "colab": {
          "base_uri": "https://localhost:8080/"
        }
      },
      "outputs": [
        {
          "output_type": "stream",
          "name": "stdout",
          "text": [
            "I love yah\n"
          ]
        }
      ],
      "source": [
        "print(\"I love yah\")"
      ]
    },
    {
      "cell_type": "markdown",
      "metadata": {
        "id": "aEopVpHkNgCu"
      },
      "source": [
        "# Section 3: Printing Multiple Lines\n",
        "\n",
        "When you use multiple `print()` statements, each one creates a new line on your screen. First, predict what the output will be before running the code below."
      ]
    },
    {
      "cell_type": "code",
      "execution_count": null,
      "metadata": {
        "vscode": {
          "languageId": "python"
        },
        "id": "vxtYaSZuNgCu"
      },
      "outputs": [],
      "source": [
        "print(\"Hello World!\")\n",
        "print(\"I am learning Python.\")"
      ]
    },
    {
      "cell_type": "markdown",
      "metadata": {
        "id": "MtIDvIZzNgCu"
      },
      "source": [
        "What was printed? Is it what you expected?\n",
        "\n",
        ">💡 **AI Tip:** If you're unsure about your output, try asking AI: *What will this Python code output?*\n",
        "\n",
        "## Task: Print two messages on separate lines\n",
        "\n",
        "Time to level up your printing skills! Use two print statements to display:\n",
        "\n",
        "- Python is versatile!\n",
        "- I am learning Python!"
      ]
    },
    {
      "cell_type": "code",
      "execution_count": null,
      "metadata": {
        "vscode": {
          "languageId": "python"
        },
        "id": "wseyy3ZlNgCu"
      },
      "outputs": [],
      "source": [
        "print(\" \")\n",
        "print(\" \")"
      ]
    },
    {
      "cell_type": "markdown",
      "metadata": {
        "id": "MuATm6HfNgCu"
      },
      "source": [
        "🎉 Congratulations! You've completed your first Python worksheet.\n",
        "Experiment with what you've learned and explore AI-powered debugging!"
      ]
    }
  ],
  "metadata": {
    "kernelspec": {
      "display_name": "Python 3 (ipykernel)",
      "language": "python",
      "name": "python3"
    },
    "colab": {
      "provenance": [],
      "include_colab_link": true
    }
  },
  "nbformat": 4,
  "nbformat_minor": 0
}