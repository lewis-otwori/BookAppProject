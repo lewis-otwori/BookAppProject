{
  "cells": [
    {
      "cell_type": "markdown",
      "metadata": {
        "id": "view-in-github",
        "colab_type": "text"
      },
      "source": [
        "<a href=\"https://colab.research.google.com/github/lewis-otwori/BookAppProject/blob/main/Week%202%20Notebooks/Activity_1_Personalised_Greeting_%26_User_Preferences.ipynb\" target=\"_parent\"><img src=\"https://colab.research.google.com/assets/colab-badge.svg\" alt=\"Open In Colab\"/></a>"
      ]
    },
    {
      "cell_type": "markdown",
      "metadata": {
        "id": "UqWh27PVUTXd"
      },
      "source": [
        " # Activity 1: Personalised Greeting & User Preferences\n",
        "\n",
        "Welcome to your first hands-on project in Python! In this activity, you will create a program that collects user information, processes it, and displays a personalised message. Along the way, you'll find hints, tips, and even AI suggestions to help you think like a programmer and problem-solver."
      ]
    },
    {
      "cell_type": "raw",
      "metadata": {
        "id": "0noqds80UTXp"
      },
      "source": [
        "---\n",
        "\n",
        "## Project Goal\n",
        "\n",
        "Your mission is to build a simple interactive program that:\n",
        "- Asks the user for their name and a couple of preferences (like their favorite colour and food).\n",
        "- Stores their responses in variables.\n",
        "- Outputs a custom message that uses these inputs.\n",
        "\n",
        "**Tip:** Good variable names help keep your code clear and your intentions obvious.\n",
        "\n",
        "---"
      ]
    },
    {
      "cell_type": "markdown",
      "metadata": {
        "id": "blROYXDwUTXq"
      },
      "source": [
        "## Instructions\n",
        "\n",
        "1. **Collect User Input:**  \n",
        "  Use the `input()` function to ask for details such as the user's name, favourite colour, and favourite food.  \n",
        "   \n",
        "  > **Hint:** Think of `input()` as a way to start a conversation with your computer.\n",
        "\n",
        "2. **Store Responses in Variables:**  \n",
        "  Assign each input value to a variable.  \n",
        "  \n",
        "  > **Tip:** Choose descriptive names for your variables (e.g., `user_name`, `fav_colour`).\n",
        "\n",
        "3. **Output a Summary Message:**  \n",
        "  Use the `print()` function to display a personalized greeting that includes all the user's inputs.\n",
        "\n",
        "4. **Extend and Experiment:**  \n",
        "  Add extra prompts like asking for a favourite hobby or a spirit animal. Experiment with string manipulation methods and see what fun outputs you can create.\n",
        "\n",
        "5. **AI Assistance:**  \n",
        "  If you get stuck, consider asking your AI tutor for hints on string operations or debugging tips.  \n",
        "   \n",
        "  > **AI Tip:** You can say, “How do I combine strings in Python?” for additional guidance."
      ]
    },
    {
      "cell_type": "markdown",
      "metadata": {
        "id": "mtcLfvCLUTXq"
      },
      "source": [
        "---\n",
        "\n",
        "## Step-by-Step Guide\n",
        "\n",
        "### Step 1: Collecting User Input\n",
        "\n",
        "Below is a code snippet to capture user input. Feel free to adjust the prompts as needed."
      ]
    },
    {
      "cell_type": "code",
      "execution_count": 2,
      "metadata": {
        "vscode": {
          "languageId": "python"
        },
        "id": "HUQtFjQQUTXq",
        "outputId": "c65cdb06-f3ee-4e2a-bd5f-db0a57b9c52d",
        "colab": {
          "base_uri": "https://localhost:8080/"
        }
      },
      "outputs": [
        {
          "output_type": "stream",
          "name": "stdout",
          "text": [
            "What is your name? Lewis\n",
            "What is your favourite colour? Black\n",
            "What is your favourite food? Ugali\n",
            "Name: Lewis\n",
            "Favourite Colour: Black\n",
            "Favourite Food: Ugali\n"
          ]
        }
      ],
      "source": [
        "# Collect basic user inputs\n",
        "user_name = input(\"What is your name? \")\n",
        "fav_colour = input(\"What is your favourite colour? \")\n",
        "fav_food = input(\"What is your favourite food? \")\n",
        "\n",
        "# Display the captured inputs\n",
        "print(\"Name:\", user_name)\n",
        "print(\"Favourite Colour:\", fav_colour)\n",
        "print(\"Favourite Food:\", fav_food)"
      ]
    },
    {
      "cell_type": "raw",
      "metadata": {
        "id": "nZENXVWyUTXr"
      },
      "source": [
        "> **Concept**: When using `input()`, the string between the quoptes is know as a prompt\n",
        "\n",
        "> **Tip**  When using `print()`, you can separate multiple items with a comma. This tells Python to output each item with a space between them automatically.\n",
        "\n",
        "> **Advanced Concept**  Arguments are passed to functions (like `print()`).  These *arguments* are the values you provide between the parentheses. In this example, each comma-separated value is an argument, and the `print()` function prints them in order.\n",
        "\n",
        "> **Hint:** After running this cell, check that your inputs are stored correctly by printing the variables.\n",
        "\n",
        "---"
      ]
    },
    {
      "cell_type": "markdown",
      "metadata": {
        "id": "5gymyWwIUTXr"
      },
      "source": [
        "### Step 2: Outputting a Personalized Summary\n",
        "\n",
        "Now combine your inputs into a friendly greeting using string concatenation."
      ]
    },
    {
      "cell_type": "code",
      "execution_count": 3,
      "metadata": {
        "vscode": {
          "languageId": "python"
        },
        "id": "KchT32mbUTXs",
        "outputId": "e0128aa8-57c7-4ab5-f8be-0bca633d7651",
        "colab": {
          "base_uri": "https://localhost:8080/"
        }
      },
      "outputs": [
        {
          "output_type": "stream",
          "name": "stdout",
          "text": [
            "Hello, Lewis! Your favourite colour is Black and you love Ugali.\n"
          ]
        }
      ],
      "source": [
        "# Output a summary message combining the inputs\n",
        "print(\"Hello, \" + user_name + \"! Your favourite colour is \" + fav_colour +\n",
        "      \" and you love \" + fav_food + \".\")"
      ]
    },
    {
      "cell_type": "markdown",
      "metadata": {
        "id": "xRGxj_epUTXs"
      },
      "source": [
        "> **Tip**  The `+` operator is used here to join, or \"concatenate,\" multiple strings together to build up your final message. Think of it as gluing pieces of text into one complete sentence.\n",
        "\n",
        "> **Advanced Concept:**  Using the `+` operator for strings lets you create new strings by combining literal text with variables. This is one of the fundamental ways to build messages dynamically in Python.\n",
        "\n",
        "> **Advanced Tip:** Experiment with different ways of joining strings – try using f-strings for cleaner code as you become more comfortable."
      ]
    },
    {
      "cell_type": "markdown",
      "metadata": {
        "id": "BMh7F-F1UTXs"
      },
      "source": [
        "---\n",
        "\n",
        "### Step 3: Your Turn – Extend the Program\n",
        "\n",
        "It’s time to add an extra input. For instance, ask the user for their favourite hobby and update your greeting message accordingly."
      ]
    },
    {
      "cell_type": "code",
      "execution_count": 4,
      "metadata": {
        "vscode": {
          "languageId": "python"
        },
        "id": "0ZkQRJidUTXs",
        "outputId": "56e1ebb1-4cbc-4306-ed76-392b85fb9053",
        "colab": {
          "base_uri": "https://localhost:8080/"
        }
      },
      "outputs": [
        {
          "output_type": "stream",
          "name": "stdout",
          "text": [
            "What is your favourite hobby? Rugby\n",
            "Hello, Lewis! Your favourite colour is Black, you love Ugali, and your favourite hobby is Rugby.\n"
          ]
        }
      ],
      "source": [
        "# TODO: Ask the user for their favourite hobby and store it in a variable.\n",
        "# For example:\n",
        "fav_hobby = input(\"What is your favourite hobby? \")\n",
        "\n",
        "# Then update the summary message to include the hobby.\n",
        "# For example:\n",
        "print(\"Hello, \" + user_name + \"! Your favourite colour is \" + fav_colour +\n",
        "       \", you love \" + fav_food + \", and your favourite hobby is \" + fav_hobby + \".\")"
      ]
    },
    {
      "cell_type": "raw",
      "metadata": {
        "id": "GnOVxQ1cUTXt"
      },
      "source": [
        "> **AI Tip:** If you’re not sure how to modify the print statement, ask your AI helper, “How do I update a print statement with more variables in Python?”\n",
        "\n",
        "---"
      ]
    },
    {
      "cell_type": "markdown",
      "metadata": {
        "id": "LcP_WcaJUTXt"
      },
      "source": [
        "## Experiment with input()\n",
        "\n",
        "Try a different twist by asking for something unique, like the user’s spirit animal. This is a fun way to practice with `input()`."
      ]
    },
    {
      "cell_type": "code",
      "execution_count": 5,
      "metadata": {
        "vscode": {
          "languageId": "python"
        },
        "id": "fHhF5gg8UTXt",
        "outputId": "a27241f4-40b8-452e-bf05-25960074e959",
        "colab": {
          "base_uri": "https://localhost:8080/"
        }
      },
      "outputs": [
        {
          "output_type": "stream",
          "name": "stdout",
          "text": [
            "What's your spirit animal? Dog\n",
            "Interesting choice! I wonder why a Dog resonates with you.\n"
          ]
        }
      ],
      "source": [
        "spirit_animal = input(\"What's your spirit animal? \")\n",
        "print(\"Interesting choice! I wonder why a\", spirit_animal, \"resonates with you.\")"
      ]
    },
    {
      "cell_type": "markdown",
      "metadata": {
        "id": "vEVy76djUTXt"
      },
      "source": [
        "> **Hint:** Think about how different input types (like numbers or strings) can change your approach to programming."
      ]
    },
    {
      "cell_type": "markdown",
      "metadata": {
        "id": "s1yUSeoMUTXt"
      },
      "source": [
        "---\n",
        "\n",
        "## Simple String Manipulation\n",
        "\n",
        "Discover how to change the style of your text. The code below shows your name transformed to all uppercase letters."
      ]
    },
    {
      "cell_type": "code",
      "execution_count": 6,
      "metadata": {
        "vscode": {
          "languageId": "python"
        },
        "id": "vKJMOVwwUTXt",
        "outputId": "65bd0115-5c4b-4ae8-cb93-9a4d0fccaafc",
        "colab": {
          "base_uri": "https://localhost:8080/"
        }
      },
      "outputs": [
        {
          "output_type": "stream",
          "name": "stdout",
          "text": [
            "Your name in all caps is LEWIS!\n"
          ]
        }
      ],
      "source": [
        "print(\"Your name in all caps is\", user_name.upper() + \"!\")"
      ]
    },
    {
      "cell_type": "raw",
      "metadata": {
        "id": "L0qogMOSUTXt"
      },
      "source": [
        "> **Tip:** String methods like `.upper()`, `.lower()`, and `.title()` are useful for standardizing text input.\n",
        "\n",
        "---"
      ]
    },
    {
      "cell_type": "markdown",
      "metadata": {
        "id": "YDIy4xzgUTXu"
      },
      "source": [
        "## Advanced Concept: Understanding Dot-Methods\n",
        "\n",
        "When you see a dot (.) following a variable in Python—like in `user_name.upper()`—you're using a method that belongs to that variable's type. In this example, `user_name` is a string, and `.upper()` is a method that converts all characters to uppercase.\n",
        "\n",
        "- **Dot-Methods Explained:**  \n",
        "  In Python, many data types have built-in functions (methods) that perform common tasks. When you type a dot after a variable, your IDE (Integrated Development Environment) can display a list of available methods. For instance, type `user_name.` and pause, and you'll see a drop-down list of string methods. This list gets filtered as you type more letters, helping you quickly find the method you need.\n",
        "\n",
        "- **IDE Autocomplete Tip:**  \n",
        "  If you're ever unsure which method to use, try typing a dot after your variable name. Your IDE’s autocomplete feature will suggest options along with a brief description. This is a great way to learn about what methods are available for strings and other objects before diving deeper into object-oriented programming later in the course.\n",
        "\n",
        "> **AI Tip:** Ask your AI tutor, “What are some common string methods in Python?” for more examples and explanations."
      ]
    },
    {
      "cell_type": "markdown",
      "metadata": {
        "id": "6bZvNb90UTXu"
      },
      "source": [
        "---\n",
        "\n",
        "## Mini-Challenges\n",
        "\n",
        "### Challenge 1: Multi-line Greeting  \n",
        "Modify your greeting message so it prints on two lines.  \n",
        "\n",
        "> *Hint:* Insert the newline character `\\n` in your string to start a new line."
      ]
    },
    {
      "cell_type": "code",
      "execution_count": 7,
      "metadata": {
        "vscode": {
          "languageId": "python"
        },
        "id": "oSNjaUW1UTXu",
        "outputId": "2393da25-f9c3-4e17-8ad9-7c32d4440d67",
        "colab": {
          "base_uri": "https://localhost:8080/"
        }
      },
      "outputs": [
        {
          "output_type": "stream",
          "name": "stdout",
          "text": [
            "Hello, Lewis!\n",
            "Your favourite colour is Black and you love Ugali.\n"
          ]
        }
      ],
      "source": [
        "# TODO: Modify the greeting message to print on two separate lines.\n",
        "# For example, consider:\n",
        "print(\"Hello, \" + user_name + \"!\\nYour favourite colour is \" + fav_colour +\n",
        "       \" and you love \" + fav_food + \".\")"
      ]
    },
    {
      "cell_type": "raw",
      "metadata": {
        "id": "fRr0OysWUTXu"
      },
      "source": [
        "> **AI Tip:** If you need a refresher on escape sequences in Python, ask, “What are escape sequences in Python?”\n",
        "\n",
        "---"
      ]
    },
    {
      "cell_type": "markdown",
      "metadata": {
        "id": "kvkaPh9aUTXu"
      },
      "source": [
        "### Challenge 2: Age Calculator  \n",
        "Ask the user for their birth year and calculate their age for the current year.  \n",
        "*Hint:* You might need to import the `datetime` module to obtain the current year."
      ]
    },
    {
      "cell_type": "code",
      "execution_count": 8,
      "metadata": {
        "vscode": {
          "languageId": "python"
        },
        "id": "1DYgy0yQUTXu",
        "outputId": "4255dba8-aece-4425-802a-9be3fa706ea8",
        "colab": {
          "base_uri": "https://localhost:8080/"
        }
      },
      "outputs": [
        {
          "output_type": "stream",
          "name": "stdout",
          "text": [
            "What year were you born? 2000\n",
            "You are 25 years old!\n"
          ]
        }
      ],
      "source": [
        "# TODO: Ask the user for their birth year and calculate their age.\n",
        "# For example:\n",
        "birth_year = int(input(\"What year were you born? \"))\n",
        "import datetime\n",
        "current_year = datetime.datetime.now().year\n",
        "age = current_year - birth_year\n",
        "print(\"You are\", age, \"years old!\")"
      ]
    },
    {
      "cell_type": "markdown",
      "metadata": {
        "id": "ImilsyI-UTXu"
      },
      "source": [
        "> **Tip:** Make sure to convert the input from a string to an integer using `int()` before doing arithmetic."
      ]
    },
    {
      "cell_type": "markdown",
      "metadata": {
        "id": "5TAY93NBUTXu"
      },
      "source": [
        "---\n",
        "\n",
        "## Optional Advanced: Interactive Input with ipywidgets\n",
        "\n",
        "This section provides a sneak peek into interactive programming techniques. Feel free to explore if you’re curious about more dynamic user interfaces. (Don't worry if this seems advanced—it's an optional bonus!)"
      ]
    },
    {
      "cell_type": "code",
      "execution_count": 9,
      "metadata": {
        "vscode": {
          "languageId": "python"
        },
        "id": "TVTu3NQWUTXv",
        "outputId": "91b58640-a968-42a6-adb8-99ff7713d34e",
        "colab": {
          "base_uri": "https://localhost:8080/",
          "height": 130,
          "referenced_widgets": [
            "3889151ce5be4a60b0130b73bb5eb71a",
            "f73ba5bb521b4fbc85e30d9174fbc69f",
            "c87bc825604e420f84de7f376707b753",
            "75eb71642f9b40e695f85f358bd8c0fd",
            "30fac7b489984acc8d3e66bf6cead19e",
            "220eb7eae51146ea882f3927b1246006",
            "c9e8d29ea51a4b9dacace9943b11cd89",
            "becd20574f9b4a958207e7a87c426a75",
            "dd91f80da6a2441a80564f1f7772d214",
            "7970452692754d5d9b5b30e07adb2528",
            "39d27bc395a949a0b278193130847b7e",
            "cf808ab4c0ad40caa63c0b475a0fe773",
            "ddd4398857a04a9688642c37773f3f55"
          ]
        }
      },
      "outputs": [
        {
          "output_type": "display_data",
          "data": {
            "text/plain": [
              "VBox(children=(Text(value='', placeholder='Enter your name'), Text(value='', placeholder='Enter your favourite…"
            ],
            "application/vnd.jupyter.widget-view+json": {
              "version_major": 2,
              "version_minor": 0,
              "model_id": "3889151ce5be4a60b0130b73bb5eb71a"
            }
          },
          "metadata": {}
        },
        {
          "output_type": "display_data",
          "data": {
            "text/plain": [
              "Output()"
            ],
            "application/vnd.jupyter.widget-view+json": {
              "version_major": 2,
              "version_minor": 0,
              "model_id": "cf808ab4c0ad40caa63c0b475a0fe773"
            }
          },
          "metadata": {}
        }
      ],
      "source": [
        "# Optional Advanced: Using ipywidgets for interactive input\n",
        "# If needed, uncomment the next line to install ipywidgets in Colab\n",
        "# !pip install ipywidgets\n",
        "\n",
        "import ipywidgets as widgets\n",
        "from IPython.display import display\n",
        "\n",
        "def greet(user_name, fav_colour, fav_food):\n",
        "    greeting = f\"Hello, {user_name}! Your favourite colour is {fav_colour} and you love {fav_food}.\"\n",
        "    print(greeting)\n",
        "\n",
        "# Create interactive text widgets for input\n",
        "name_widget = widgets.Text(placeholder='Enter your name')\n",
        "colour_widget = widgets.Text(placeholder='Enter your favourite colour')\n",
        "food_widget = widgets.Text(placeholder='Enter your favourite food')\n",
        "\n",
        "ui = widgets.VBox([name_widget, colour_widget, food_widget])\n",
        "out = widgets.interactive_output(greet, {'user_name': name_widget, 'fav_colour': colour_widget, 'fav_food': food_widget})\n",
        "display(ui, out)"
      ]
    },
    {
      "cell_type": "raw",
      "metadata": {
        "id": "B9fh037PUTXv"
      },
      "source": [
        "> **AI Tip:** Use the interactive widgets as a way to see real-time feedback on your code. You can ask your AI tutor for more creative ideas on using ipywidgets.\n",
        "\n",
        "---"
      ]
    },
    {
      "cell_type": "markdown",
      "metadata": {
        "id": "BHrHI2J4UTXv"
      },
      "source": [
        "## Summary and Next Steps\n",
        "\n",
        "- **Experiment:**  \n",
        "  Play around with different prompts and string methods. For instance, try converting text to uppercase or adding another personal touch to your greeting.\n",
        "\n",
        "- **Mini-Challenges:**  \n",
        "  Work on the mini-challenges above to further hone your coding skills.\n",
        "\n",
        "- **Interactive Widgets (Optional):**  \n",
        "  Explore the ipywidgets section to learn about interactive programming. Ask your AI helper for extra resources if you're interested!\n",
        "\n",
        "Remember, programming is about exploring and learning from your experiments. If you get stuck, your Lecturer, Tutor and AI tutor are here to help.\n",
        "\n",
        "Happy coding!"
      ]
    }
  ],
  "metadata": {
    "kernelspec": {
      "display_name": "Python 3 (ipykernel)",
      "language": "python",
      "name": "python3"
    },
    "colab": {
      "provenance": [],
      "include_colab_link": true
    },
    "widgets": {
      "application/vnd.jupyter.widget-state+json": {
        "3889151ce5be4a60b0130b73bb5eb71a": {
          "model_module": "@jupyter-widgets/controls",
          "model_name": "VBoxModel",
          "model_module_version": "1.5.0",
          "state": {
            "_dom_classes": [],
            "_model_module": "@jupyter-widgets/controls",
            "_model_module_version": "1.5.0",
            "_model_name": "VBoxModel",
            "_view_count": null,
            "_view_module": "@jupyter-widgets/controls",
            "_view_module_version": "1.5.0",
            "_view_name": "VBoxView",
            "box_style": "",
            "children": [
              "IPY_MODEL_f73ba5bb521b4fbc85e30d9174fbc69f",
              "IPY_MODEL_c87bc825604e420f84de7f376707b753",
              "IPY_MODEL_75eb71642f9b40e695f85f358bd8c0fd"
            ],
            "layout": "IPY_MODEL_30fac7b489984acc8d3e66bf6cead19e"
          }
        },
        "f73ba5bb521b4fbc85e30d9174fbc69f": {
          "model_module": "@jupyter-widgets/controls",
          "model_name": "TextModel",
          "model_module_version": "1.5.0",
          "state": {
            "_dom_classes": [],
            "_model_module": "@jupyter-widgets/controls",
            "_model_module_version": "1.5.0",
            "_model_name": "TextModel",
            "_view_count": null,
            "_view_module": "@jupyter-widgets/controls",
            "_view_module_version": "1.5.0",
            "_view_name": "TextView",
            "continuous_update": true,
            "description": "",
            "description_tooltip": null,
            "disabled": false,
            "layout": "IPY_MODEL_220eb7eae51146ea882f3927b1246006",
            "placeholder": "Enter your name",
            "style": "IPY_MODEL_c9e8d29ea51a4b9dacace9943b11cd89",
            "value": "lewis"
          }
        },
        "c87bc825604e420f84de7f376707b753": {
          "model_module": "@jupyter-widgets/controls",
          "model_name": "TextModel",
          "model_module_version": "1.5.0",
          "state": {
            "_dom_classes": [],
            "_model_module": "@jupyter-widgets/controls",
            "_model_module_version": "1.5.0",
            "_model_name": "TextModel",
            "_view_count": null,
            "_view_module": "@jupyter-widgets/controls",
            "_view_module_version": "1.5.0",
            "_view_name": "TextView",
            "continuous_update": true,
            "description": "",
            "description_tooltip": null,
            "disabled": false,
            "layout": "IPY_MODEL_becd20574f9b4a958207e7a87c426a75",
            "placeholder": "Enter your favourite colour",
            "style": "IPY_MODEL_dd91f80da6a2441a80564f1f7772d214",
            "value": "black"
          }
        },
        "75eb71642f9b40e695f85f358bd8c0fd": {
          "model_module": "@jupyter-widgets/controls",
          "model_name": "TextModel",
          "model_module_version": "1.5.0",
          "state": {
            "_dom_classes": [],
            "_model_module": "@jupyter-widgets/controls",
            "_model_module_version": "1.5.0",
            "_model_name": "TextModel",
            "_view_count": null,
            "_view_module": "@jupyter-widgets/controls",
            "_view_module_version": "1.5.0",
            "_view_name": "TextView",
            "continuous_update": true,
            "description": "",
            "description_tooltip": null,
            "disabled": false,
            "layout": "IPY_MODEL_7970452692754d5d9b5b30e07adb2528",
            "placeholder": "Enter your favourite food",
            "style": "IPY_MODEL_39d27bc395a949a0b278193130847b7e",
            "value": "ugali"
          }
        },
        "30fac7b489984acc8d3e66bf6cead19e": {
          "model_module": "@jupyter-widgets/base",
          "model_name": "LayoutModel",
          "model_module_version": "1.2.0",
          "state": {
            "_model_module": "@jupyter-widgets/base",
            "_model_module_version": "1.2.0",
            "_model_name": "LayoutModel",
            "_view_count": null,
            "_view_module": "@jupyter-widgets/base",
            "_view_module_version": "1.2.0",
            "_view_name": "LayoutView",
            "align_content": null,
            "align_items": null,
            "align_self": null,
            "border": null,
            "bottom": null,
            "display": null,
            "flex": null,
            "flex_flow": null,
            "grid_area": null,
            "grid_auto_columns": null,
            "grid_auto_flow": null,
            "grid_auto_rows": null,
            "grid_column": null,
            "grid_gap": null,
            "grid_row": null,
            "grid_template_areas": null,
            "grid_template_columns": null,
            "grid_template_rows": null,
            "height": null,
            "justify_content": null,
            "justify_items": null,
            "left": null,
            "margin": null,
            "max_height": null,
            "max_width": null,
            "min_height": null,
            "min_width": null,
            "object_fit": null,
            "object_position": null,
            "order": null,
            "overflow": null,
            "overflow_x": null,
            "overflow_y": null,
            "padding": null,
            "right": null,
            "top": null,
            "visibility": null,
            "width": null
          }
        },
        "220eb7eae51146ea882f3927b1246006": {
          "model_module": "@jupyter-widgets/base",
          "model_name": "LayoutModel",
          "model_module_version": "1.2.0",
          "state": {
            "_model_module": "@jupyter-widgets/base",
            "_model_module_version": "1.2.0",
            "_model_name": "LayoutModel",
            "_view_count": null,
            "_view_module": "@jupyter-widgets/base",
            "_view_module_version": "1.2.0",
            "_view_name": "LayoutView",
            "align_content": null,
            "align_items": null,
            "align_self": null,
            "border": null,
            "bottom": null,
            "display": null,
            "flex": null,
            "flex_flow": null,
            "grid_area": null,
            "grid_auto_columns": null,
            "grid_auto_flow": null,
            "grid_auto_rows": null,
            "grid_column": null,
            "grid_gap": null,
            "grid_row": null,
            "grid_template_areas": null,
            "grid_template_columns": null,
            "grid_template_rows": null,
            "height": null,
            "justify_content": null,
            "justify_items": null,
            "left": null,
            "margin": null,
            "max_height": null,
            "max_width": null,
            "min_height": null,
            "min_width": null,
            "object_fit": null,
            "object_position": null,
            "order": null,
            "overflow": null,
            "overflow_x": null,
            "overflow_y": null,
            "padding": null,
            "right": null,
            "top": null,
            "visibility": null,
            "width": null
          }
        },
        "c9e8d29ea51a4b9dacace9943b11cd89": {
          "model_module": "@jupyter-widgets/controls",
          "model_name": "DescriptionStyleModel",
          "model_module_version": "1.5.0",
          "state": {
            "_model_module": "@jupyter-widgets/controls",
            "_model_module_version": "1.5.0",
            "_model_name": "DescriptionStyleModel",
            "_view_count": null,
            "_view_module": "@jupyter-widgets/base",
            "_view_module_version": "1.2.0",
            "_view_name": "StyleView",
            "description_width": ""
          }
        },
        "becd20574f9b4a958207e7a87c426a75": {
          "model_module": "@jupyter-widgets/base",
          "model_name": "LayoutModel",
          "model_module_version": "1.2.0",
          "state": {
            "_model_module": "@jupyter-widgets/base",
            "_model_module_version": "1.2.0",
            "_model_name": "LayoutModel",
            "_view_count": null,
            "_view_module": "@jupyter-widgets/base",
            "_view_module_version": "1.2.0",
            "_view_name": "LayoutView",
            "align_content": null,
            "align_items": null,
            "align_self": null,
            "border": null,
            "bottom": null,
            "display": null,
            "flex": null,
            "flex_flow": null,
            "grid_area": null,
            "grid_auto_columns": null,
            "grid_auto_flow": null,
            "grid_auto_rows": null,
            "grid_column": null,
            "grid_gap": null,
            "grid_row": null,
            "grid_template_areas": null,
            "grid_template_columns": null,
            "grid_template_rows": null,
            "height": null,
            "justify_content": null,
            "justify_items": null,
            "left": null,
            "margin": null,
            "max_height": null,
            "max_width": null,
            "min_height": null,
            "min_width": null,
            "object_fit": null,
            "object_position": null,
            "order": null,
            "overflow": null,
            "overflow_x": null,
            "overflow_y": null,
            "padding": null,
            "right": null,
            "top": null,
            "visibility": null,
            "width": null
          }
        },
        "dd91f80da6a2441a80564f1f7772d214": {
          "model_module": "@jupyter-widgets/controls",
          "model_name": "DescriptionStyleModel",
          "model_module_version": "1.5.0",
          "state": {
            "_model_module": "@jupyter-widgets/controls",
            "_model_module_version": "1.5.0",
            "_model_name": "DescriptionStyleModel",
            "_view_count": null,
            "_view_module": "@jupyter-widgets/base",
            "_view_module_version": "1.2.0",
            "_view_name": "StyleView",
            "description_width": ""
          }
        },
        "7970452692754d5d9b5b30e07adb2528": {
          "model_module": "@jupyter-widgets/base",
          "model_name": "LayoutModel",
          "model_module_version": "1.2.0",
          "state": {
            "_model_module": "@jupyter-widgets/base",
            "_model_module_version": "1.2.0",
            "_model_name": "LayoutModel",
            "_view_count": null,
            "_view_module": "@jupyter-widgets/base",
            "_view_module_version": "1.2.0",
            "_view_name": "LayoutView",
            "align_content": null,
            "align_items": null,
            "align_self": null,
            "border": null,
            "bottom": null,
            "display": null,
            "flex": null,
            "flex_flow": null,
            "grid_area": null,
            "grid_auto_columns": null,
            "grid_auto_flow": null,
            "grid_auto_rows": null,
            "grid_column": null,
            "grid_gap": null,
            "grid_row": null,
            "grid_template_areas": null,
            "grid_template_columns": null,
            "grid_template_rows": null,
            "height": null,
            "justify_content": null,
            "justify_items": null,
            "left": null,
            "margin": null,
            "max_height": null,
            "max_width": null,
            "min_height": null,
            "min_width": null,
            "object_fit": null,
            "object_position": null,
            "order": null,
            "overflow": null,
            "overflow_x": null,
            "overflow_y": null,
            "padding": null,
            "right": null,
            "top": null,
            "visibility": null,
            "width": null
          }
        },
        "39d27bc395a949a0b278193130847b7e": {
          "model_module": "@jupyter-widgets/controls",
          "model_name": "DescriptionStyleModel",
          "model_module_version": "1.5.0",
          "state": {
            "_model_module": "@jupyter-widgets/controls",
            "_model_module_version": "1.5.0",
            "_model_name": "DescriptionStyleModel",
            "_view_count": null,
            "_view_module": "@jupyter-widgets/base",
            "_view_module_version": "1.2.0",
            "_view_name": "StyleView",
            "description_width": ""
          }
        },
        "cf808ab4c0ad40caa63c0b475a0fe773": {
          "model_module": "@jupyter-widgets/output",
          "model_name": "OutputModel",
          "model_module_version": "1.0.0",
          "state": {
            "_dom_classes": [],
            "_model_module": "@jupyter-widgets/output",
            "_model_module_version": "1.0.0",
            "_model_name": "OutputModel",
            "_view_count": null,
            "_view_module": "@jupyter-widgets/output",
            "_view_module_version": "1.0.0",
            "_view_name": "OutputView",
            "layout": "IPY_MODEL_ddd4398857a04a9688642c37773f3f55",
            "msg_id": "",
            "outputs": [
              {
                "output_type": "stream",
                "name": "stdout",
                "text": [
                  "Hello, lewis! Your favourite colour is black and you love ugali.\n"
                ]
              }
            ]
          }
        },
        "ddd4398857a04a9688642c37773f3f55": {
          "model_module": "@jupyter-widgets/base",
          "model_name": "LayoutModel",
          "model_module_version": "1.2.0",
          "state": {
            "_model_module": "@jupyter-widgets/base",
            "_model_module_version": "1.2.0",
            "_model_name": "LayoutModel",
            "_view_count": null,
            "_view_module": "@jupyter-widgets/base",
            "_view_module_version": "1.2.0",
            "_view_name": "LayoutView",
            "align_content": null,
            "align_items": null,
            "align_self": null,
            "border": null,
            "bottom": null,
            "display": null,
            "flex": null,
            "flex_flow": null,
            "grid_area": null,
            "grid_auto_columns": null,
            "grid_auto_flow": null,
            "grid_auto_rows": null,
            "grid_column": null,
            "grid_gap": null,
            "grid_row": null,
            "grid_template_areas": null,
            "grid_template_columns": null,
            "grid_template_rows": null,
            "height": null,
            "justify_content": null,
            "justify_items": null,
            "left": null,
            "margin": null,
            "max_height": null,
            "max_width": null,
            "min_height": null,
            "min_width": null,
            "object_fit": null,
            "object_position": null,
            "order": null,
            "overflow": null,
            "overflow_x": null,
            "overflow_y": null,
            "padding": null,
            "right": null,
            "top": null,
            "visibility": null,
            "width": null
          }
        }
      }
    }
  },
  "nbformat": 4,
  "nbformat_minor": 0
}